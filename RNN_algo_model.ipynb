{
 "cells": [
  {
   "cell_type": "code",
   "execution_count": null,
   "metadata": {},
   "outputs": [],
   "source": [
    "import numpy as np\n",
    "import pandas as pd\n",
    "import tensorflow as tf\n",
    "from sklearn.preprocessing import MinMaxScaler"
   ]
  },
  {
   "cell_type": "code",
   "execution_count": null,
   "metadata": {},
   "outputs": [],
   "source": [
    "# Load data from CSV\n",
    "def load_data(file_path):\n",
    "    df = pd.read_csv(file_path, delimiter='\\t', parse_dates={'datetime': ['<DATE>', '<TIME>']})\n",
    "    return df"
   ]
  },
  {
   "cell_type": "code",
   "execution_count": null,
   "metadata": {},
   "outputs": [],
   "source": [
    "# Normalize data between 0 and 1\n",
    "def normalize_data(data):\n",
    "    scaler = MinMaxScaler(feature_range=(0, 1))\n",
    "    scaled_data = scaler.fit_transform(data.reshape(-1, 1))\n",
    "    return scaled_data, scaler"
   ]
  },
  {
   "cell_type": "code",
   "execution_count": null,
   "metadata": {},
   "outputs": [],
   "source": [
    "# Prepare data for training\n",
    "def prepare_data(data, seq_length):\n",
    "    X, Y = [], []\n",
    "    for i in range(len(data) - seq_length - 1):\n",
    "        window = data[i:(i + seq_length)]\n",
    "        X.append(window)\n",
    "        Y.append(data[i + seq_length])\n",
    "    return np.array(X), np.array(Y)"
   ]
  },
  {
   "cell_type": "code",
   "execution_count": null,
   "metadata": {},
   "outputs": [],
   "source": [
    "# Define the model\n",
    "def create_model(seq_length):\n",
    "    model = tf.keras.models.Sequential([\n",
    "        tf.keras.layers.LSTM(50, return_sequences=True, input_shape=(seq_length, 1)),\n",
    "        tf.keras.layers.LSTM(50),\n",
    "        tf.keras.layers.Dense(1)\n",
    "    ])\n",
    "    model.compile(optimizer='adam', loss='mean_squared_error')\n",
    "    return model"
   ]
  },
  {
   "cell_type": "code",
   "execution_count": null,
   "metadata": {},
   "outputs": [],
   "source": [
    "# Hyperparameters\n",
    "seq_length = 10  # Length of input sequence\n",
    "epochs = 100\n",
    "batch_size = 32\n",
    "file_path = 'EURUSD_data.csv'\n",
    "\n",
    "# Load and preprocess data\n",
    "df = load_data(file_path)\n",
    "data = df['<CLOSE>'].values  # Assuming 'CLOSE' column contains the closing prices\n",
    "scaled_data, scaler = normalize_data(data)\n",
    "X, Y = prepare_data(scaled_data, seq_length)\n",
    "\n",
    "# Reshape data for LSTM input (samples, timesteps, features)\n",
    "X = np.reshape(X, (X.shape[0], X.shape[1], 1))\n",
    "\n",
    "# Split data into train and test sets\n",
    "split_ratio = 0.8\n",
    "split_index = int(split_ratio * len(X))\n",
    "X_train, X_test = X[:split_index], X[split_index:]\n",
    "Y_train, Y_test = Y[:split_index], Y[split_index:]"
   ]
  },
  {
   "cell_type": "code",
   "execution_count": null,
   "metadata": {},
   "outputs": [],
   "source": [
    "# Create the model\n",
    "model = create_model(seq_length)\n",
    "\n",
    "# Train the model\n",
    "model.fit(X_train, Y_train, epochs=epochs, batch_size=batch_size, verbose=1)\n",
    "\n",
    "# Evaluate the model\n",
    "train_loss = model.evaluate(X_train, Y_train, verbose=0)\n",
    "test_loss = model.evaluate(X_test, Y_test, verbose=0)\n",
    "print(f'Training Loss: {train_loss}')\n",
    "print(f'Test Loss: {test_loss}')\n",
    "\n",
    "# Save the model for later use in MetaTrader\n",
    "model.save('stock_prediction_model.h5')\n",
    "print(\"Model saved successfully.\")"
   ]
  }
 ],
 "metadata": {
  "kernelspec": {
   "display_name": "Python 3",
   "language": "python",
   "name": "python3"
  },
  "language_info": {
   "name": "python",
   "version": "3.11.2"
  }
 },
 "nbformat": 4,
 "nbformat_minor": 2
}
